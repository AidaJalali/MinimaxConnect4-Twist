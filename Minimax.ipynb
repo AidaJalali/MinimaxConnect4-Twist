{
 "cells": [
  {
   "cell_type": "markdown",
   "id": "1f92315ba2ff9b88",
   "metadata": {},
   "source": [
    "\n",
    "<br>\n",
    "<font>\n",
    "<div dir=ltr align=center>\n",
    "<font color=0F5298 size=7>\n",
    "Minimax <br>\n",
    "\n",
    "\n",
    "\n",
    "____"
   ]
  },
  {
   "cell_type": "markdown",
   "id": "0c623b42-4c43-453a-b2e0-274c5a1ef021",
   "metadata": {},
   "source": [
    "# Game explanation and environment setup"
   ]
  },
  {
   "cell_type": "markdown",
   "id": "48e5391a5b221a80",
   "metadata": {},
   "source": [
    "In this Jupyter notebook, we aim to develop the AI logic for the game **Connect4**. Players take turns dropping pieces into a grid, and the first player to align four consecutive pieces vertically, horizontally, or diagonally wins. The focus is on creating an intelligent AI opponent using the minimax algorithm with alpha-beta pruning to deliver a challenging gameplay experience.\n",
    "\n",
    "However, there’s an added twist: after either player drops a piece, there is a 12.5% chance that the entire board will rotate 90 degrees clockwise, changing the direction of gravity as well!</span>\n",
    "<br>\n",
    "The winning condition will be checked after applying the rotation. If both sides have winning conditions, the player who made the last move will lose.\n",
    "<br>\n",
    "\n",
    "For full clarification, the following occurs:\n",
    "- Some players make their moves.\n",
    "- Rotations happens. (12.5%)\n",
    "- New gravity is applied to every piece on the board. (12.5%)\n",
    "- The winning condition is then checked.\n",
    "\n",
    "<br>"
   ]
  },
  {
   "cell_type": "markdown",
   "id": "ac9f632d947ddfcb",
   "metadata": {},
   "source": [
    "First, we will define some constants to make the code cleaner, more organized, and to set up the game environment."
   ]
  },
  {
   "cell_type": "code",
   "execution_count": 1,
   "id": "73bc4e502ad9b405",
   "metadata": {
    "ExecuteTime": {
     "end_time": "2024-09-28T21:09:37.982928Z",
     "start_time": "2024-09-28T21:09:37.976825Z"
    }
   },
   "outputs": [],
   "source": [
    "# Game Constants\n",
    "ROW_COUNT = 7\n",
    "COLUMN_COUNT = 7\n",
    "WINDOW_LENGTH = 4\n",
    "EMPTY = 0\n",
    "\n",
    "# Players and Pieces\n",
    "PLAYER = 0\n",
    "AI = 1\n",
    "EMPTY_PIECE = 0\n",
    "PLAYER_PIECE = 1\n",
    "AI_PIECE = 2\n",
    "\n",
    "# Colors (RGB values) - you can change the colors to your liking\n",
    "FG_COLOR = (0, 0, 255)\n",
    "BG_COLOR = (0, 0, 0)\n",
    "P1_COLOR = (255, 0, 0)\n",
    "P2_COLOR = (0, 255, 0)\n",
    "\n",
    "# Pygame Constants\n",
    "SQUARESIZE = 80\n",
    "RADIUS = SQUARESIZE // 2 - 5\n",
    "SCREEN_WIDTH = COLUMN_COUNT * SQUARESIZE\n",
    "SCREEN_HEIGHT = (ROW_COUNT + 1) * SQUARESIZE"
   ]
  },
  {
   "cell_type": "markdown",
   "id": "104e905659d70540",
   "metadata": {},
   "source": [
    "# Libraries"
   ]
  },
  {
   "cell_type": "code",
   "execution_count": 2,
   "id": "b8df99273bd4c499",
   "metadata": {
    "ExecuteTime": {
     "end_time": "2024-09-28T21:08:06.586200Z",
     "start_time": "2024-09-28T21:08:06.581699Z"
    }
   },
   "outputs": [
    {
     "name": "stdout",
     "output_type": "stream",
     "text": [
      "Requirement already satisfied: pygame in c:\\users\\notebook\\anaconda3\\lib\\site-packages (2.6.1)\n",
      "pygame 2.6.1 (SDL 2.28.4, Python 3.11.7)\n",
      "Hello from the pygame community. https://www.pygame.org/contribute.html\n"
     ]
    }
   ],
   "source": [
    "!pip install pygame\n",
    "\n",
    "import numpy as np\n",
    "import random\n",
    "import pygame\n",
    "import math\n",
    "import time\n",
    "\n"
   ]
  },
  {
   "cell_type": "markdown",
   "id": "ca5858d5d454d025",
   "metadata": {},
   "source": [
    "# Util functions"
   ]
  },
  {
   "cell_type": "markdown",
   "id": "b8487d61b9fc8d53",
   "metadata": {},
   "source": [
    "We need to initialize the game board as an empty 2D array with dimensions of ROW_COUNT by COLUMN_COUNT."
   ]
  },
  {
   "cell_type": "code",
   "execution_count": 57,
   "id": "bc91941833b5a626",
   "metadata": {
    "ExecuteTime": {
     "end_time": "2024-09-28T21:08:07.867328Z",
     "start_time": "2024-09-28T21:08:07.863137Z"
    }
   },
   "outputs": [],
   "source": [
    "def create_board():\n",
    "    board = np.zeros((ROW_COUNT,COLUMN_COUNT))\n",
    "    return board"
   ]
  },
  {
   "cell_type": "markdown",
   "id": "a3f258636ead182e",
   "metadata": {},
   "source": [
    "Find the valid columns where a piece can be dropped."
   ]
  },
  {
   "cell_type": "code",
   "execution_count": 67,
   "id": "fce8973a7f553f23",
   "metadata": {
    "ExecuteTime": {
     "end_time": "2024-09-28T21:08:08.308764Z",
     "start_time": "2024-09-28T21:08:08.306395Z"
    }
   },
   "outputs": [],
   "source": [
    "def is_valid_location(board, col):\n",
    "    if(board[ROW_COUNT-1][col] == 0):\n",
    "        return True\n",
    "    else:\n",
    "        return False"
   ]
  },
  {
   "cell_type": "code",
   "execution_count": 68,
   "id": "c63ef2212d19db4e",
   "metadata": {
    "ExecuteTime": {
     "end_time": "2024-09-28T21:08:08.555838Z",
     "start_time": "2024-09-28T21:08:08.550469Z"
    }
   },
   "outputs": [],
   "source": [
    "def get_valid_locations(board):\n",
    "    valid = []\n",
    "    for col in range(COLUMN_COUNT):\n",
    "    \tif is_valid_location(board, col):\n",
    "    \t\tvalid.append(col)\n",
    "    return valid"
   ]
  },
  {
   "cell_type": "markdown",
   "id": "ca0127402f546d09",
   "metadata": {},
   "source": [
    "Find the valid row for the given column where a piece can be dropped."
   ]
  },
  {
   "cell_type": "code",
   "execution_count": 69,
   "id": "b0631de7b344eb51",
   "metadata": {
    "ExecuteTime": {
     "end_time": "2024-09-28T21:08:08.980560Z",
     "start_time": "2024-09-28T21:08:08.976882Z"
    }
   },
   "outputs": [],
   "source": [
    "def get_next_open_row(board, col):\n",
    "    for i in range(0,ROW_COUNT):\n",
    "        if board[i,col] == 0:\n",
    "        \treturn i"
   ]
  },
  {
   "cell_type": "markdown",
   "id": "1ccd121d353ef733",
   "metadata": {},
   "source": [
    "Drop a piece in the specified column of the board."
   ]
  },
  {
   "cell_type": "code",
   "execution_count": 70,
   "id": "3a9517a62fa6fe29",
   "metadata": {
    "ExecuteTime": {
     "end_time": "2024-09-28T21:08:09.450921Z",
     "start_time": "2024-09-28T21:08:09.447239Z"
    }
   },
   "outputs": [],
   "source": [
    "def drop_piece(board,col, piece):\n",
    "    row = get_next_open_row(board,col)\n",
    "    board[row][col] = piece"
   ]
  },
  {
   "cell_type": "markdown",
   "id": "ee8e5e96d6ff0545",
   "metadata": {},
   "source": [
    "Check if the specified piece has won the game."
   ]
  },
  {
   "cell_type": "code",
   "execution_count": 79,
   "id": "86d2cc41fa8f0572",
   "metadata": {
    "ExecuteTime": {
     "end_time": "2024-09-28T21:08:09.947674Z",
     "start_time": "2024-09-28T21:08:09.937289Z"
    }
   },
   "outputs": [],
   "source": [
    "def winning_move(board, piece):\n",
    "\t# Check horizontal locations for win\n",
    "\tfor c in range(COLUMN_COUNT-3):\n",
    "\t\tfor r in range(ROW_COUNT):\n",
    "\t\t\tif board[r][c] == piece and board[r][c+1] == piece and board[r][c+2] == piece and board[r][c+3] == piece:\n",
    "\t\t\t\treturn True\n",
    "\n",
    "\t# Check vertical locations for win\n",
    "\tfor c in range(COLUMN_COUNT):\n",
    "\t\tfor r in range(ROW_COUNT-3):\n",
    "\t\t\tif board[r][c] == piece and board[r+1][c] == piece and board[r+2][c] == piece and board[r+3][c] == piece:\n",
    "\t\t\t\treturn True\n",
    "\n",
    "\t# Check positively sloped diaganols\n",
    "\tfor c in range(COLUMN_COUNT-3):\n",
    "\t\tfor r in range(ROW_COUNT-3):\n",
    "\t\t\tif board[r][c] == piece and board[r+1][c+1] == piece and board[r+2][c+2] == piece and board[r+3][c+3] == piece:\n",
    "\t\t\t\treturn True\n",
    "\n",
    "\t# Check negatively sloped diaganols\n",
    "\tfor c in range(COLUMN_COUNT-3):\n",
    "\t\tfor r in range(3, ROW_COUNT):\n",
    "\t\t\tif board[r][c] == piece and board[r-1][c+1] == piece and board[r-2][c+2] == piece and board[r-3][c+3] == piece:\n",
    "\t\t\t\treturn True"
   ]
  },
  {
   "cell_type": "markdown",
   "id": "d7e6509896da524a",
   "metadata": {},
   "source": [
    "# Scoring function and Minimax implementation"
   ]
  },
  {
   "cell_type": "markdown",
   "id": "5e4bde4e2fb1d81",
   "metadata": {},
   "source": [
    "Score the current situation for the player.we divide the board into separate windows, score each window individually for the given piece, and sum the scores to obtain the total board score for that piece."
   ]
  },
  {
   "cell_type": "code",
   "execution_count": 74,
   "id": "a59db402707105ea",
   "metadata": {
    "ExecuteTime": {
     "end_time": "2024-09-28T21:08:11.277614Z",
     "start_time": "2024-09-28T21:08:11.272534Z"
    }
   },
   "outputs": [],
   "source": [
    "def evaluate_window(window, piece):\n",
    "\tscore = 0\n",
    "\topp_piece = PLAYER_PIECE\n",
    "\tif piece == PLAYER_PIECE:\n",
    "\t\topp_piece = AI_PIECE\n",
    "\n",
    "\tif window.count(piece) == 4:\n",
    "\t\tscore += 100\n",
    "\telif window.count(piece) == 3 and window.count(EMPTY) == 1:\n",
    "\t\tscore += 5\n",
    "\telif window.count(piece) == 2 and window.count(EMPTY) == 2:\n",
    "\t\tscore += 2\n",
    "\n",
    "\tif window.count(opp_piece) == 3 and window.count(EMPTY) == 1:\n",
    "\t\tscore -= 4\n",
    "\n",
    "\treturn score"
   ]
  },
  {
   "cell_type": "code",
   "execution_count": 75,
   "id": "74a9a841385a26a1",
   "metadata": {
    "ExecuteTime": {
     "end_time": "2024-09-28T21:08:11.748502Z",
     "start_time": "2024-09-28T21:08:11.742105Z"
    }
   },
   "outputs": [],
   "source": [
    "def score_position(board, piece):\n",
    "    score = 0\n",
    "\n",
    "    center_array = board[:, COLUMN_COUNT // 2]\n",
    "    center_count = list(center_array).count(piece)\n",
    "    score += center_count * 3\n",
    "\n",
    "    def score_windows(lines):\n",
    "        total = 0\n",
    "        for line in lines:\n",
    "            for i in range(len(line) - WINDOW_LENGTH + 1):\n",
    "                window = line[i:i + WINDOW_LENGTH]\n",
    "                total += evaluate_window(window, piece)\n",
    "        return total\n",
    "\n",
    "    rows = [list(board[r, :]) for r in range(ROW_COUNT)]\n",
    "    cols = [list(board[:, c]) for c in range(COLUMN_COUNT)]\n",
    "    diagonals = [\n",
    "        [board[r + i, c + i] for i in range(WINDOW_LENGTH)]\n",
    "        for r in range(ROW_COUNT - 3) for c in range(COLUMN_COUNT - 3)\n",
    "    ]\n",
    "    anti_diagonals = [\n",
    "        [board[r + 3 - i, c + i] for i in range(WINDOW_LENGTH)]\n",
    "        for r in range(ROW_COUNT - 3) for c in range(COLUMN_COUNT - 3)\n",
    "    ]\n",
    "\n",
    "    score += score_windows(rows)\n",
    "    score += score_windows(cols)\n",
    "    score += score_windows(diagonals)\n",
    "    score += score_windows(anti_diagonals)\n",
    "\n",
    "    return score"
   ]
  },
  {
   "cell_type": "markdown",
   "id": "5e901dea66c326a1",
   "metadata": {},
   "source": [
    "Implement the minimax algorithm with alpha beta pruning using the utility function provided."
   ]
  },
  {
   "cell_type": "code",
   "execution_count": 76,
   "id": "fbe1057a-effa-4bec-9345-72a3752f187b",
   "metadata": {
    "ExecuteTime": {
     "end_time": "2024-09-28T21:08:12.759605Z",
     "start_time": "2024-09-28T21:08:12.754221Z"
    }
   },
   "outputs": [],
   "source": [
    "def minimax(board, depth, alpha, beta, maximizingPlayer):\n",
    "    valid_locations = get_valid_locations(board)\n",
    "    is_terminal = (\n",
    "        winning_move(board, PLAYER_PIECE) or \n",
    "        winning_move(board, AI_PIECE) or \n",
    "        len(valid_locations) == 0\n",
    "    )\n",
    "\n",
    "    if depth == 0 or is_terminal:\n",
    "        if is_terminal:\n",
    "            if winning_move(board, AI_PIECE):\n",
    "                return None, float('inf')\n",
    "            elif winning_move(board, PLAYER_PIECE):\n",
    "                return None, float('-inf')\n",
    "            else:\n",
    "                return None, 0\n",
    "        else:\n",
    "            return None, score_position(board, AI_PIECE)\n",
    "\n",
    "    best_column = random.choice(valid_locations)\n",
    "\n",
    "    if maximizingPlayer:\n",
    "        max_value = float('-inf')\n",
    "        for col in valid_locations:\n",
    "            row = get_next_open_row(board, col)\n",
    "            board_copy = board.copy()\n",
    "            drop_piece(board_copy, col, AI_PIECE)\n",
    "            _, new_score = minimax(board_copy, depth - 1, alpha, beta, False)\n",
    "            if new_score > max_value:\n",
    "                max_value = new_score\n",
    "                best_column = col\n",
    "            alpha = max(alpha, max_value)\n",
    "            if alpha >= beta:\n",
    "                break\n",
    "        return best_column, max_value\n",
    "\n",
    "    else:\n",
    "        min_value = float('inf')\n",
    "        for col in valid_locations:\n",
    "            row = get_next_open_row(board, col)\n",
    "            board_copy = board.copy()\n",
    "            drop_piece(board_copy, col, PLAYER_PIECE)\n",
    "            _, new_score = minimax(board_copy, depth - 1, alpha, beta, True)\n",
    "            if new_score < min_value:\n",
    "                min_value = new_score\n",
    "                best_column = col\n",
    "            beta = min(beta, min_value)\n",
    "            if alpha >= beta:\n",
    "                break\n",
    "        return best_column, min_value\n"
   ]
  },
  {
   "cell_type": "markdown",
   "id": "99f8d53a522ea625",
   "metadata": {},
   "source": [
    "# PVE"
   ]
  },
  {
   "cell_type": "markdown",
   "id": "2e6a715daea2b583",
   "metadata": {},
   "source": [
    "Test AI's performance."
   ]
  },
  {
   "cell_type": "code",
   "execution_count": 77,
   "id": "7fb5207c-57ee-4db0-b970-617f39d49dc9",
   "metadata": {
    "ExecuteTime": {
     "end_time": "2024-09-28T21:37:33.478832Z",
     "start_time": "2024-09-28T21:35:50.965374Z"
    }
   },
   "outputs": [],
   "source": [
    "pygame.init()\n",
    "width = COLUMN_COUNT * SQUARESIZE\n",
    "height = (ROW_COUNT + 1) * SQUARESIZE\n",
    "size = (width, height)\n",
    "screen = pygame.display.set_mode(size)\n",
    "myfont = pygame.font.SysFont(\"monospace\", 75)\n",
    "\n",
    "def rotate_board(board):\n",
    "    rotated_board = np.rot90(board)\n",
    "    for col in range(rotated_board.shape[1]):\n",
    "        column = rotated_board[:, col]\n",
    "        non_empty = column[column != 0]\n",
    "        empty_count = ROW_COUNT - len(non_empty)\n",
    "        rotated_board[:, col] = np.concatenate((non_empty, np.zeros(empty_count)))\n",
    "    return rotated_board\n",
    "\n",
    "def draw_board(board):\n",
    "    for c in range(COLUMN_COUNT):\n",
    "        for r in range(ROW_COUNT):\n",
    "            pygame.draw.rect(screen, FG_COLOR, (c * SQUARESIZE, r * SQUARESIZE + SQUARESIZE, SQUARESIZE, SQUARESIZE))\n",
    "            pygame.draw.circle(screen, BG_COLOR, (\n",
    "                int(c * SQUARESIZE + SQUARESIZE / 2), int(r * SQUARESIZE + SQUARESIZE + SQUARESIZE / 2)), RADIUS)\n",
    "\n",
    "    for c in range(COLUMN_COUNT):\n",
    "        for r in range(ROW_COUNT):\n",
    "            if board[r][c] == PLAYER_PIECE:\n",
    "                pygame.draw.circle(screen, P1_COLOR, (\n",
    "                    int(c * SQUARESIZE + SQUARESIZE / 2), height - int(r * SQUARESIZE + SQUARESIZE / 2)), RADIUS)\n",
    "            elif board[r][c] == AI_PIECE:\n",
    "                pygame.draw.circle(screen, P2_COLOR, (\n",
    "                    int(c * SQUARESIZE + SQUARESIZE / 2), height - int(r * SQUARESIZE + SQUARESIZE / 2)), RADIUS)\n",
    "    pygame.display.update()\n",
    "\n",
    "def run_game():\n",
    "    board = create_board()\n",
    "    draw_board(board)\n",
    "    game_over = False\n",
    "    turn = random.choice([0, 1])\n",
    "    while not game_over:\n",
    "        for event in pygame.event.get():\n",
    "            if event.type == pygame.QUIT:\n",
    "                pygame.quit()\n",
    "                return\n",
    "\n",
    "            if event.type == pygame.MOUSEMOTION:\n",
    "                pygame.draw.rect(screen, BG_COLOR, (0, 0, width, SQUARESIZE))\n",
    "                posx = event.pos[0]\n",
    "                if turn == PLAYER:\n",
    "                    pygame.draw.circle(screen, P1_COLOR, (posx, int(SQUARESIZE / 2)), RADIUS)\n",
    "\n",
    "            pygame.display.update()\n",
    "\n",
    "            if event.type == pygame.MOUSEBUTTONDOWN:\n",
    "                pygame.draw.rect(screen, BG_COLOR, (0, 0, width, SQUARESIZE))\n",
    "                if turn == PLAYER:\n",
    "                    posx = event.pos[0]\n",
    "                    col = int(math.floor(posx / SQUARESIZE))\n",
    "\n",
    "                    if is_valid_location(board, col):\n",
    "                        drop_piece(board,col, PLAYER_PIECE)\n",
    "                        if random.random() <= 0.125:\n",
    "                            board = rotate_board(board)\n",
    "                            draw_board(board)\n",
    "                            pygame.time.wait(1500)\n",
    "\n",
    "                        if winning_move(board, AI_PIECE):\n",
    "                            label = myfont.render(\"Player 2 wins!!\", 1, P2_COLOR)\n",
    "                            print(\"Player 2 wins!!\")\n",
    "                            screen.blit(label, (40, 10))\n",
    "                            game_over = True\n",
    "                        elif winning_move(board, PLAYER_PIECE):\n",
    "                            label = myfont.render(\"Player 1 wins!!\", 1, P1_COLOR)\n",
    "                            print(\"Player 1 wins!!\")\n",
    "                            screen.blit(label, (40, 10))\n",
    "                            game_over = True\n",
    "\n",
    "                        turn += 1\n",
    "                        turn = turn % 2\n",
    "                        draw_board(board)\n",
    "\n",
    "        if turn == AI and not game_over:\n",
    "            col, minimax_score = minimax(board, 5, -math.inf, math.inf, True)\n",
    "\n",
    "            if is_valid_location(board, col):\n",
    "                drop_piece(board,col, AI_PIECE)\n",
    "\n",
    "                if random.random() <= 0.125:\n",
    "                    board = rotate_board(board)\n",
    "                    draw_board(board)\n",
    "                    pygame.time.wait(1500)\n",
    "\n",
    "                if winning_move(board, PLAYER_PIECE):\n",
    "                    label = myfont.render(\"Player 1 wins!!\", 1, P1_COLOR)\n",
    "                    print(\"Player 1 wins!!\")\n",
    "                    screen.blit(label, (40, 10))\n",
    "                    game_over = True\n",
    "                elif winning_move(board, AI_PIECE):\n",
    "                    label = myfont.render(\"Player 2 wins!!\", 1, P2_COLOR)\n",
    "                    print(\"Player 2 wins!!\")\n",
    "                    screen.blit(label, (40, 10))\n",
    "                    game_over = True\n",
    "\n",
    "                turn += 1\n",
    "                turn = turn % 2\n",
    "                draw_board(board)\n",
    "\n",
    "        if game_over:\n",
    "            pygame.time.wait(3000)\n",
    "            pygame.quit()\n",
    "            return\n",
    "\n",
    "\n",
    "run_game()"
   ]
  },
  {
   "cell_type": "markdown",
   "id": "2eb69cd3d5970d9f",
   "metadata": {},
   "source": [
    "# EVE"
   ]
  },
  {
   "cell_type": "markdown",
   "id": "17603a8d0ea2c314",
   "metadata": {},
   "source": [
    "In this section, we will simulate an AI battle where our AI heuristic should outperform our provided heuristic."
   ]
  },
  {
   "cell_type": "markdown",
   "id": "b1f1d0cecad1748a",
   "metadata": {},
   "source": [
    "Implement the minimax algorithm similar to  main minimax function."
   ]
  },
  {
   "cell_type": "code",
   "execution_count": 78,
   "id": "8410d559a028936",
   "metadata": {
    "ExecuteTime": {
     "end_time": "2024-09-29T11:04:33.752794Z",
     "start_time": "2024-09-29T11:04:33.745665Z"
    }
   },
   "outputs": [],
   "source": [
    "def tester_evaluate_window(window, piece):\n",
    "    score = 0\n",
    "    opp_piece = PLAYER_PIECE if piece == AI_PIECE else AI_PIECE\n",
    "    if window.count(piece) == 4:\n",
    "        score += 100\n",
    "    elif window.count(piece) == 3 and window.count(EMPTY) == 1:\n",
    "        score += 5\n",
    "    elif window.count(piece) == 2 and window.count(EMPTY) == 2:\n",
    "        score += 2\n",
    "    if window.count(opp_piece) == 3 and window.count(EMPTY) == 1:\n",
    "        score -= 4\n",
    "    return score\n",
    "\n",
    "\n",
    "def tester_score_position(board, piece):\n",
    "    score = 0\n",
    "    center_array = [int(i) for i in list(board[:, COLUMN_COUNT // 2])]\n",
    "    score += center_array.count(piece) * 3\n",
    "\n",
    "    for r in range(ROW_COUNT):\n",
    "        row_array = [int(i) for i in list(board[r, :])]\n",
    "        for c in range(COLUMN_COUNT - 3):\n",
    "            window = row_array[c:c + WINDOW_LENGTH]\n",
    "            score += tester_evaluate_window(window, piece)\n",
    "\n",
    "    for c in range(COLUMN_COUNT):\n",
    "        col_array = [int(i) for i in list(board[:, c])]\n",
    "        for r in range(ROW_COUNT - 3):\n",
    "            window = col_array[r:r + WINDOW_LENGTH]\n",
    "            score += tester_evaluate_window(window, piece)\n",
    "\n",
    "    for r in range(ROW_COUNT - 3):\n",
    "        for c in range(COLUMN_COUNT - 3):\n",
    "            window = [board[r + i][c + i] for i in range(WINDOW_LENGTH)]\n",
    "            score += tester_evaluate_window(window, piece)\n",
    "\n",
    "    for r in range(ROW_COUNT - 3):\n",
    "        for c in range(COLUMN_COUNT - 3):\n",
    "            window = [board[r + 3 - i][c + i] for i in range(WINDOW_LENGTH)]\n",
    "            score += tester_evaluate_window(window, piece)\n",
    "\n",
    "\n",
    "def tester_minimax(board, depth, alpha, beta, maximizingPlayer):\n",
    "    valid_locations = get_valid_locations(board)\n",
    "    is_terminal = (\n",
    "        winning_move(board, PLAYER_PIECE) or \n",
    "        winning_move(board, AI_PIECE) or \n",
    "        len(valid_locations) == 0\n",
    "    )\n",
    "\n",
    "    if depth == 0 or is_terminal:\n",
    "        if is_terminal:\n",
    "            if winning_move(board, AI_PIECE):\n",
    "                return None, float('inf')\n",
    "            elif winning_move(board, PLAYER_PIECE):\n",
    "                return None, float('-inf')\n",
    "            else:\n",
    "                return None, 0\n",
    "        else:\n",
    "            return None, tester_score_position(board, AI_PIECE)\n",
    "\n",
    "    best_column = random.choice(valid_locations)\n",
    "\n",
    "    if maximizingPlayer:\n",
    "        max_value = float('-inf')\n",
    "        for col in valid_locations:\n",
    "            row = get_next_open_row(board, col)\n",
    "            board_copy = board.copy()\n",
    "            drop_piece(board_copy, col, AI_PIECE)\n",
    "            _, new_score = minimax(board_copy, depth - 1, alpha, beta, False)\n",
    "            if new_score > max_value:\n",
    "                max_value = new_score\n",
    "                best_column = col\n",
    "            alpha = max(alpha, max_value)\n",
    "            if alpha >= beta:\n",
    "                break\n",
    "        return best_column, max_value\n",
    "\n",
    "    else:\n",
    "        min_value = float('inf')\n",
    "        for col in valid_locations:\n",
    "            row = get_next_open_row(board, col)\n",
    "            board_copy = board.copy()\n",
    "            drop_piece(board_copy, col, PLAYER_PIECE)\n",
    "            _, new_score = minimax(board_copy, depth - 1, alpha, beta, True)\n",
    "            if new_score < min_value:\n",
    "                min_value = new_score\n",
    "                best_column = col\n",
    "            beta = min(beta, min_value)\n",
    "            if alpha >= beta:\n",
    "                break\n",
    "        return best_column, min_value"
   ]
  },
  {
   "cell_type": "code",
   "execution_count": 72,
   "id": "aaa8fef2dc4a9cbb",
   "metadata": {
    "ExecuteTime": {
     "end_time": "2024-09-28T22:16:12.470081Z",
     "start_time": "2024-09-28T22:16:12.462655Z"
    }
   },
   "outputs": [],
   "source": [
    "def simulate_game():\n",
    "    board = create_board()\n",
    "    starting_turn = turn = random.choice([0, 1])\n",
    "\n",
    "    game_over = False\n",
    "    while not game_over:\n",
    "        if turn == PLAYER:\n",
    "            col, minimax_score = tester_minimax(board, 4, -math.inf, math.inf, True)\n",
    "            if is_valid_location(board, col):\n",
    "                drop_piece(board, col, PLAYER_PIECE)\n",
    "                if random.random() <= 0.125:\n",
    "                    board = rotate_board(board)\n",
    "\n",
    "                if winning_move(board, AI_PIECE):\n",
    "                    return 1, starting_turn\n",
    "\n",
    "                elif winning_move(board, PLAYER_PIECE):\n",
    "                    return 0, starting_turn\n",
    "                turn += 1\n",
    "                turn = turn % 2\n",
    "\n",
    "        if turn == AI and not game_over:\n",
    "            col, minimax_score = minimax(board, 4, -math.inf, math.inf, True)\n",
    "            if is_valid_location(board, col):\n",
    "                drop_piece(board, col, AI_PIECE)\n",
    "                if random.random() <= 0.125:\n",
    "                    board = rotate_board(board)\n",
    "                if winning_move(board, PLAYER_PIECE):\n",
    "                    return 0, starting_turn\n",
    "                elif winning_move(board, AI_PIECE):\n",
    "                    return 1, starting_turn\n",
    "\n",
    "                turn += 1\n",
    "                turn = turn % 2"
   ]
  },
  {
   "cell_type": "markdown",
   "id": "9a86c67316e6c039",
   "metadata": {},
   "source": [
    "The code execution should take less than 10 minutes to complete."
   ]
  },
  {
   "cell_type": "code",
   "execution_count": 81,
   "id": "378e9176f8eb177a",
   "metadata": {
    "ExecuteTime": {
     "end_time": "2024-09-28T22:19:35.678691Z",
     "start_time": "2024-09-28T22:16:13.902896Z"
    }
   },
   "outputs": [
    {
     "name": "stdout",
     "output_type": "stream",
     "text": [
      "you won 0.73% of games\n",
      "you throw 0.1% of games\n",
      "you lost logically 0.17% of games\n",
      "Code execution time: 132.0796 seconds\n"
     ]
    }
   ],
   "source": [
    "wins = 0\n",
    "tests = 100\n",
    "throw = 0\n",
    "disadvantage = 0\n",
    "\n",
    "start_time = time.time()\n",
    "\n",
    "for i in range(tests):\n",
    "    result = simulate_game()\n",
    "    if result[1] == PLAYER and result[0] == 0: disadvantage += 1\n",
    "    if result[1] == AI and result[0] == 0: throw += 1\n",
    "    wins += result[0]\n",
    "\n",
    "end_time = time.time()\n",
    "\n",
    "print(f\"you won {wins / tests}% of games\")\n",
    "print(f\"you throw {throw / tests}% of games\")\n",
    "print(f\"you lost logically {disadvantage / tests}% of games\")\n",
    "print(f\"Code execution time: {end_time - start_time:.4f} seconds\")"
   ]
  },
  {
   "cell_type": "code",
   "execution_count": null,
   "id": "0afcdcbf-05c8-4875-9e43-80d5fd0415f9",
   "metadata": {},
   "outputs": [],
   "source": []
  }
 ],
 "metadata": {
  "kernelspec": {
   "display_name": "Python 3 (ipykernel)",
   "language": "python",
   "name": "python3"
  },
  "language_info": {
   "codemirror_mode": {
    "name": "ipython",
    "version": 3
   },
   "file_extension": ".py",
   "mimetype": "text/x-python",
   "name": "python",
   "nbconvert_exporter": "python",
   "pygments_lexer": "ipython3",
   "version": "3.11.7"
  }
 },
 "nbformat": 4,
 "nbformat_minor": 5
}
